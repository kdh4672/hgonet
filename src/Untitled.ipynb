{
 "cells": [
  {
   "cell_type": "code",
   "execution_count": 11,
   "metadata": {},
   "outputs": [],
   "source": [
    "import json\n",
    "def load_json(json_path):\n",
    "    with open(json_path, 'r') as jsonfile:\n",
    "        data = json.load(jsonfile)\n",
    "        jsonfile.close()\n",
    "    return data"
   ]
  },
  {
   "cell_type": "code",
   "execution_count": 12,
   "metadata": {},
   "outputs": [],
   "source": [
    "data = load_json('/home/ubuntu/database/edge-connect/gt/gt_json/val-window-double_16_8.json')"
   ]
  },
  {
   "cell_type": "code",
   "execution_count": 14,
   "metadata": {},
   "outputs": [
    {
     "data": {
      "text/plain": [
       "{'l': {'index': 0,\n",
       "  'prob': [0.43454158306121826,\n",
       "   0.314930260181427,\n",
       "   0.07504644244909286,\n",
       "   0.07507077604532242,\n",
       "   0.025178339332342148,\n",
       "   0.025641512125730515,\n",
       "   0.01632530614733696,\n",
       "   0.016625622287392616,\n",
       "   0.005051578860729933,\n",
       "   0.005004119127988815,\n",
       "   0.0005813463940285146,\n",
       "   0.0006374461227096617,\n",
       "   0.00013424821372609586,\n",
       "   0.00012432091170921922,\n",
       "   0.0001737301063258201,\n",
       "   0.00016604435222689062,\n",
       "   0.0003760792315006256,\n",
       "   0.000350886897649616,\n",
       "   0.0003133067220915109,\n",
       "   0.0003136128361802548,\n",
       "   0.00020715066057164222,\n",
       "   0.00021922246378380805,\n",
       "   0.0001958709763130173,\n",
       "   0.00019882613560184836,\n",
       "   0.00018200821068603545,\n",
       "   0.00021811928309034556,\n",
       "   0.0003798321704380214,\n",
       "   0.00037884386256337166,\n",
       "   0.0007753159152343869,\n",
       "   0.0006584301590919495]},\n",
       " 'r': {'index': 24,\n",
       "  'prob': [0.00045980094000697136,\n",
       "   0.0006577782914973795,\n",
       "   0.001511562499217689,\n",
       "   0.001791520626284182,\n",
       "   0.002360283164307475,\n",
       "   0.0021184999495744705,\n",
       "   0.0013492332072928548,\n",
       "   0.0014057235093787313,\n",
       "   0.0012322949478402734,\n",
       "   0.001443515415303409,\n",
       "   0.0025375760160386562,\n",
       "   0.0029226350598037243,\n",
       "   0.004668077453970909,\n",
       "   0.006120112258940935,\n",
       "   0.014652739278972149,\n",
       "   0.014571885578334332,\n",
       "   0.03184346854686737,\n",
       "   0.034757547080516815,\n",
       "   0.03569783642888069,\n",
       "   0.04202127456665039,\n",
       "   0.044994283467531204,\n",
       "   0.0448918454349041,\n",
       "   0.08278407156467438,\n",
       "   0.05962713062763214,\n",
       "   0.1283646821975708,\n",
       "   0.0723113939166069,\n",
       "   0.08958376944065094,\n",
       "   0.09185759723186493,\n",
       "   0.09005162864923477,\n",
       "   0.09141016751527786]}}"
      ]
     },
     "execution_count": 14,
     "metadata": {},
     "output_type": "execute_result"
    }
   ],
   "source": [
    "data['/home/ubuntu/database/database/sun/val/1941.jpg']"
   ]
  },
  {
   "cell_type": "code",
   "execution_count": 16,
   "metadata": {},
   "outputs": [
    {
     "data": {
      "text/plain": [
       "'./here/model.pth'"
      ]
     },
     "execution_count": 16,
     "metadata": {},
     "output_type": "execute_result"
    }
   ],
   "source": [
    "import os\n",
    "path = './here'\n",
    "os.path.join(path,'model.pth')"
   ]
  },
  {
   "cell_type": "code",
   "execution_count": null,
   "metadata": {},
   "outputs": [],
   "source": []
  }
 ],
 "metadata": {
  "kernelspec": {
   "display_name": "Python 3",
   "language": "python",
   "name": "python3"
  },
  "language_info": {
   "codemirror_mode": {
    "name": "ipython",
    "version": 3
   },
   "file_extension": ".py",
   "mimetype": "text/x-python",
   "name": "python",
   "nbconvert_exporter": "python",
   "pygments_lexer": "ipython3",
   "version": "3.6.10"
  }
 },
 "nbformat": 4,
 "nbformat_minor": 4
}
